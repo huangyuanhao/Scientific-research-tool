{
 "cells": [
  {
   "cell_type": "code",
   "execution_count": 33,
   "metadata": {
    "collapsed": true
   },
   "outputs": [
    {
     "data": {
      "text/plain": "True"
     },
     "execution_count": 33,
     "metadata": {},
     "output_type": "execute_result"
    }
   ],
   "source": [
    "from DrissionPage import ChromiumPage\n",
    "import pandas as pd\n",
    "\n",
    "\n",
    "page = ChromiumPage()\n",
    "\n",
    "# 登录账号\n",
    "page.get(\"https://tysf.cponline.cnipa.gov.cn/am/#/user/login\")\n",
    "page.wait.load_start()\n"
   ]
  },
  {
   "cell_type": "code",
   "execution_count": 34,
   "outputs": [],
   "source": [
    "#查询\n",
    "page.get(\"https://cpquery.cponline.cnipa.gov.cn/chinesepatent/index\")\n",
    "page.wait.load_start()\n",
    "\n",
    "page.ele('展开更多搜索项').click()\n",
    "#申请人\n",
    "inputs = page.eles('.q-field__native q-placeholder')\n",
    "#申请人\n",
    "inputs[2].input('河南科技大学')\n",
    "#发明人\n",
    "# inputs[7].input('') #姓名\n",
    "\n",
    "# page.eles('.q-select__dropdown-icon material-icons q-icon notranslate')[1].click()\n",
    "#这里可以添加其他代码，如翻页查询，或者进入专利详情中查询\n",
    "\n",
    "\n"
   ],
   "metadata": {
    "collapsed": false,
    "pycharm": {
     "name": "#%%\n"
    }
   }
  },
  {
   "cell_type": "code",
   "execution_count": 37,
   "outputs": [],
   "source": [
    "# 爬取专利信息\n",
    "df = pd.DataFrame(columns=['申请号_专利号','发明名称','申请人','申请日','法律状态','案件状态','授权公告日'])\n",
    "\n",
    "for patent in page.eles('.table_info'):\n",
    "    # print(patent.text)\n",
    "    spans = patent.eles('xpath://span')\n",
    "    Application_OR_Patent_Number = patent.eles('.hover_active')[0].text\n",
    "    title = patent.eles('xpath://span/span')[0].text\n",
    "    Applicant = spans[6].text\n",
    "    ApplicationDate= spans[10].text.replace('申请日：', '')\n",
    "    # AuthorizationAnnouncementNumber= spans[14].text\n",
    "    legalStatus= spans[16].text\n",
    "    CaseStatus= spans[18].text\n",
    "    AuthorizationAnnouncementDate= spans[20].text.replace('授权公告日：', '')\n",
    "\n",
    "    df = df.append({\n",
    "        '申请号_专利号':Application_OR_Patent_Number,\n",
    "        '发明名称':title,\n",
    "        '申请人':Applicant,\n",
    "        '申请日':ApplicationDate,\n",
    "        # '授权公告号':AuthorizationAnnouncementNumber,\n",
    "        '法律状态':legalStatus,\n",
    "        '案件状态':CaseStatus,\n",
    "        '授权公告日':AuthorizationAnnouncementDate\n",
    "    },ignore_index=True)\n",
    "\n",
    "    df.to_excel('专利信息.xlsx', index=False,encoding='utf_8_sig')\n",
    "\n",
    "\n",
    "\n"
   ],
   "metadata": {
    "collapsed": false,
    "pycharm": {
     "name": "#%%\n"
    }
   }
  }
 ],
 "metadata": {
  "kernelspec": {
   "display_name": "Python 3",
   "language": "python",
   "name": "python3"
  },
  "language_info": {
   "codemirror_mode": {
    "name": "ipython",
    "version": 2
   },
   "file_extension": ".py",
   "mimetype": "text/x-python",
   "name": "python",
   "nbconvert_exporter": "python",
   "pygments_lexer": "ipython2",
   "version": "2.7.6"
  }
 },
 "nbformat": 4,
 "nbformat_minor": 0
}